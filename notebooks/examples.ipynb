{
 "cells": [
  {
   "cell_type": "code",
   "execution_count": 8,
   "metadata": {},
   "outputs": [
    {
     "name": "stdout",
     "output_type": "stream",
     "text": [
      "Retrieved Context: Problem:\n",
      "This is the easy version of the problem. In the two versions, the constraints on q q and the time limit are different. In this version, q = 0 q = 0 . You can make hacks only if all the versions of the problem are solved.\n",
      "\n",
      "A team consisting of n n members, numbered from 1 1 to n n , is set to present a slide show at a large meeting. The slide show contains m m slides.\n",
      "\n",
      "2026C - Action FiguresConsider the following solution: we iterate on the number of figures we get for free (let this number bekk), and for each value ofkk, we try to check if it is possible to getkkfigures for free, and if it is, find the best figures which we get for free.For a fixed value ofkk, it is optimal to visit the shop exactlykktimes: if we visit the shop more thankktimes, then during some visits, we buy only one figure — instead of that, we can buy figures from these visits during the last day, so there are no visits during which we buy only one figure.It is quite obvious that if we want to visit the shopkktimes, we always can do it during the lastkkdays withsi=1si=1. Let the lastkkdays withsi=1si=1bex1,x2,…,xkx1,x2,…,xk(from right to left, sox1>x2>⋯>xkx1>x2>⋯>xk). It is impossible to get a total discount of more than(x1+x2+⋯+xk)(x1+x2+⋯+xk)if we visit the shop onlykktimes, since when we visit the shop on dayii, the maximum discount we can get during that day isii.Now\n",
      "\n",
      "Problem:\n",
      "This is the hard version of the problem. In the two versions, the constraints on q q and the time limit are different. In this version, 0 ≤ q ≤ 2 ⋅ 10 5 0 ≤ q ≤ 2 ⋅ 10 5 . You can make hacks only if all the versions of the problem are solved.\n",
      "\n",
      "A team consisting of n n members, numbered from 1 1 to n n , is set to present a slide show at a large meeting. The slide show contains m m slides.\n",
      "\n",
      "Metadata:\n",
      "time_limit:\n",
      "2 seconds\n",
      "memory_limit:\n",
      "256 megabytes\n",
      "tags:\n",
      "['*special problem', 'graphs', 'meet-in-the-middle', '*3100']\n",
      "\n",
      "Metadata:\n",
      "time_limit:\n",
      "2 seconds\n",
      "memory_limit:\n",
      "256 megabytes\n",
      "tags:\n",
      "['*special problem', 'math', '*1400']\n",
      "\n",
      "Chatbot Response: The time limit for the problem \"Action Figures\" in both its easy and hard versions is 2 seconds. The memory limit for both versions is 256 megabytes.\n"
     ]
    }
   ],
   "source": [
    "import sys\n",
    "import os\n",
    "os.environ[\"KMP_DUPLICATE_LIB_OK\"] = \"TRUE\"\n",
    "sys.path.append(os.path.abspath(\"../src\"))\n",
    "\n",
    "# Import necessary modules\n",
    "from vectorstore import VectorStoreManager\n",
    "from retriever import RAGRetriever\n",
    "from chatbot import MistralChatbot\n",
    "\n",
    "# Initialize VectorStoreManager\n",
    "vector_store_manager = VectorStoreManager()\n",
    "vector_store_manager.combine_data()\n",
    "vector_store_manager.create_vector_store()\n",
    "\n",
    "# Load Vector Store\n",
    "vector_store = vector_store_manager.load_vector_store()\n",
    "retriever = RAGRetriever(vector_store)\n",
    "\n",
    "# Initialize Chatbot\n",
    "api_key = \"--------------------------\"  # Replace with your API key\n",
    "chatbot = MistralChatbot(api_key=api_key)\n",
    "\n",
    "# Query and Response\n",
    "query = \"\"\"\n",
    "    what is the time limit and memory limit of the problem action figures?.\n",
    "\"\"\"\n",
    "\n",
    "retrieved_context = retriever.retrieve(query, k=5)\n",
    "\n",
    "if retrieved_context:\n",
    "    context_text = \"\\n\\n\".join([doc.page_content for doc in retrieved_context])\n",
    "else:\n",
    "    context_text = \"No relevant context found.\"\n",
    "\n",
    "system_message = \"\"\"I am solving a Competitive Programming problem, and I need help understanding its editorial.\n",
    "Answer my questions regarding the editorial.\n",
    "Let me know if I'm misunderstanding anything.\n",
    "Do not write or debug code.\"\"\"\n",
    "\n",
    "prompt = f\"{system_message}\\n\\nContext:\\n{context_text}\\n\\nQuery: {query}\\n\\nAnswer based on the context above:\"\n",
    "response = chatbot.generate_response(prompt)\n",
    "\n",
    "print(\"Retrieved Context:\", context_text)\n",
    "print(\"\\nChatbot Response:\", response)"
   ]
  },
  {
   "cell_type": "code",
   "execution_count": null,
   "metadata": {},
   "outputs": [],
   "source": []
  }
 ],
 "metadata": {
  "kernelspec": {
   "display_name": "llama-env",
   "language": "python",
   "name": "python3"
  },
  "language_info": {
   "codemirror_mode": {
    "name": "ipython",
    "version": 3
   },
   "file_extension": ".py",
   "mimetype": "text/x-python",
   "name": "python",
   "nbconvert_exporter": "python",
   "pygments_lexer": "ipython3",
   "version": "3.9.21"
  }
 },
 "nbformat": 4,
 "nbformat_minor": 2
}
